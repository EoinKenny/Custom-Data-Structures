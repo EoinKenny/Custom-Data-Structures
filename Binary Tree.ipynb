{
 "cells": [
  {
   "cell_type": "code",
   "execution_count": 318,
   "metadata": {
    "collapsed": false
   },
   "outputs": [],
   "source": [
    "class Node():\n",
    "    \n",
    "    def __init__(self, k, p, d):\n",
    "        \"\"\"Make new node object with pointers to parent, left child, right child and key\"\"\"\n",
    "        \n",
    "        self.p = p  # Parent node\n",
    "        self.l = None  # Left child\n",
    "        self.r = None  # Right child\n",
    "        self.k = k  # Key\n",
    "        self.d = d  # Depth\n",
    "        \n",
    "        \n",
    "class Tree():\n",
    "        \n",
    "    def __init__(self):\n",
    "        self.root = None\n",
    "    \n",
    "    # ===================================================== #\n",
    "    # ==================== Add Nodes ====================== #\n",
    "    # ===================================================== #\n",
    "    def insert(self, new_k):\n",
    "        \n",
    "        # Private: For depth attribute\n",
    "        __depth = 0\n",
    "        \n",
    "        # If the tree is new\n",
    "        if self.root == None:\n",
    "            self.root = Node(new_k, None, __depth)\n",
    "        else:\n",
    "            self.__add(new_k, self.root, __depth)\n",
    "        \n",
    "    def __add(self, new_k, node, __depth):\n",
    "        \n",
    "        __depth += 1\n",
    "        \n",
    "        # Insert to left\n",
    "        if new_k < node.k:\n",
    "            if node.l == None:\n",
    "                node.l = Node(new_k, node, __depth)\n",
    "            else:\n",
    "                self.__add(new_k, node.l, __depth)\n",
    "                \n",
    "        # Insert to right\n",
    "        if new_k >= node.k:\n",
    "            if node.r == None:\n",
    "                node.r = Node(new_k, node, __depth)\n",
    "            else:\n",
    "                self.__add(new_k, node.r, __depth)\n",
    "                \n",
    "    # ===================================================== #\n",
    "    # ==================== Delete Nodes =================== #\n",
    "    # ===================================================== #\n",
    "    def delete(self, find_k):\n",
    "        \n",
    "        if self.root == None: \n",
    "            return \"Tree Empty\"\n",
    "        else: \n",
    "            #### Step 1: Find the Node Object\n",
    "            node = self.__dfs_find(self.root, find_k)\n",
    "            \n",
    "            #### Step 2: Delete\n",
    "            \n",
    "            # Case 1: No Children\n",
    "            if node.l == None and node.r == None:\n",
    "                node.p.r = None\n",
    "                node.p.l = None\n",
    "                return \"Deleted\"\n",
    "                \n",
    "            # Case 2: One Child (left)\n",
    "            if node.r == None:\n",
    "                if node.p.k > node.k:\n",
    "                    node.p.l = node.l\n",
    "                    return \"Deleted\"\n",
    "                else:\n",
    "                    node.p.r = node.l\n",
    "                    return \"Deleted\"\n",
    "                    \n",
    "            # Case 2: One Child (right)\n",
    "            if node.l == None:\n",
    "                if node.p.k > node.k:\n",
    "                    node.p.l = node.r\n",
    "                    return \"Deleted\"\n",
    "                else:\n",
    "                    node.p.r = node.r\n",
    "                    return \"Deleted\"\n",
    "                    \n",
    "            # Case 3: Two Child Nodes (Tricky) ============================ #\n",
    "            \n",
    "            \"\"\"Here you can either get the maximum node in the left sub-tree\n",
    "            or get the minimum node in the right sub-tree\"\"\"\n",
    "            \n",
    "            # Get maximum in left sub-tree\n",
    "            max_node = self.__get_max(node.l)\n",
    "            node.k = max_node.k  # Switch around keys in nodes\n",
    "            \n",
    "            # Get rid of sub-tree max node\n",
    "            if max_node.p.r != None:\n",
    "                if max_node.p.r.k == max_node.k:\n",
    "                    max_node.p.r = None\n",
    "                    return \"Deleted\"\n",
    "            \n",
    "            if max_node.p.l != None:\n",
    "                if max_node.p.l.k == max_node.k:\n",
    "                    max_node.p.l = None\n",
    "                    return \"Deleted\"\n",
    "\n",
    "    def __dfs_find(self, node, key):\n",
    "                                \n",
    "        if node.k == key:\n",
    "            print(\"found\")\n",
    "            return node\n",
    "        \n",
    "        else:\n",
    "            if node.k > key:\n",
    "                if node.l != None:\n",
    "                    return self.__dfs_find(node.l, key)\n",
    "\n",
    "            else:\n",
    "                if node.r != None:\n",
    "                    return self.__dfs_find(node.r, key)\n",
    "        \n",
    "        \n",
    "    # ===================================================== #\n",
    "    # ==================== Get Min ======================== #\n",
    "    # ===================================================== #\n",
    "    def return_min(self):\n",
    "        if self.root:\n",
    "            return self.__get_min(self.root).k\n",
    "        else:\n",
    "            return False\n",
    "    \n",
    "    def __get_min(self, node):\n",
    "        if node.l != None:\n",
    "            return self.__get_min(node.l)\n",
    "        else:\n",
    "            return node\n",
    "        \n",
    "    # ===================================================== #\n",
    "    # ==================== Get Max ======================== #\n",
    "    # ===================================================== #\n",
    "    def return_max(self):\n",
    "        if self.root:\n",
    "            return self.__get_max(self.root).k\n",
    "        else:\n",
    "            return False\n",
    "    \n",
    "    def __get_max(self, node):\n",
    "        if node.r != None:\n",
    "            return self.__get_max(node.r)\n",
    "        else:\n",
    "            return node\n",
    "        \n",
    "    # ===================================================== #\n",
    "    # ================== Search The Tree ================== #\n",
    "    # ===================================================== #\n",
    "    def search(self, key):\n",
    "        if self.root:\n",
    "            return self.__dfs(self.root, key)\n",
    "        else:\n",
    "            return False\n",
    "        \n",
    "    def __dfs(self, node, key):\n",
    "                        \n",
    "        # Base Case \n",
    "        if node.k == key:\n",
    "            print(\"found node\")\n",
    "        \n",
    "        else:\n",
    "            if node.l != None:\n",
    "                self.__dfs(node.l, key)\n",
    "\n",
    "            if node.r != None:\n",
    "                self.__dfs(node.r, key)\n",
    "        \n",
    "    # ===================================================== #\n",
    "    # ================== Print The Tree =================== #\n",
    "    # ===================================================== #\n",
    "    def print_tree(self):        \n",
    "        if self.root:\n",
    "            to_visit = list()\n",
    "            to_visit.append(self.root)\n",
    "            current_depth = self.root.d\n",
    "            return self.__bfs_print(to_visit, current_depth)\n",
    "        else:\n",
    "            return False\n",
    "        \n",
    "    def __bfs_print(self, to_visit, current_depth):\n",
    "        \n",
    "        if len(to_visit) == 0:\n",
    "            return True\n",
    "        \n",
    "        else:\n",
    "            current = to_visit.pop(0)\n",
    "            if current.l:\n",
    "                to_visit.append(current.l)\n",
    "            if current.r:\n",
    "                to_visit.append(current.r)\n",
    "            \n",
    "            if len(to_visit) != 0:\n",
    "                if current.d != to_visit[0].d:\n",
    "                    print(current.k)\n",
    "                else:    \n",
    "                    print(current.k, end=\" \")\n",
    "            else:\n",
    "                print(current.k)\n",
    "            return self.__bfs_print(to_visit, current.d)\n",
    "        "
   ]
  },
  {
   "cell_type": "code",
   "execution_count": 319,
   "metadata": {
    "collapsed": true
   },
   "outputs": [],
   "source": [
    "tree = Tree()"
   ]
  },
  {
   "cell_type": "code",
   "execution_count": 320,
   "metadata": {
    "collapsed": false
   },
   "outputs": [],
   "source": [
    "tree.insert(12)\n",
    "tree.insert(5)\n",
    "tree.insert(17)\n",
    "tree.insert(3)\n",
    "tree.insert(7)\n",
    "tree.insert(13)\n",
    "tree.insert(20)\n",
    "tree.insert(1)\n",
    "tree.insert(9)\n",
    "tree.insert(14)\n",
    "tree.insert(18)\n",
    "tree.insert(8)\n",
    "tree.insert(11)"
   ]
  },
  {
   "cell_type": "code",
   "execution_count": 321,
   "metadata": {
    "collapsed": false
   },
   "outputs": [
    {
     "name": "stdout",
     "output_type": "stream",
     "text": [
      "12\n",
      "5 17\n",
      "3 7 13 20\n",
      "1 9 14 18\n",
      "8 11\n"
     ]
    },
    {
     "data": {
      "text/plain": [
       "True"
      ]
     },
     "execution_count": 321,
     "metadata": {},
     "output_type": "execute_result"
    }
   ],
   "source": [
    "tree.print_tree()"
   ]
  },
  {
   "cell_type": "code",
   "execution_count": 322,
   "metadata": {
    "collapsed": false
   },
   "outputs": [
    {
     "name": "stdout",
     "output_type": "stream",
     "text": [
      "found\n"
     ]
    },
    {
     "data": {
      "text/plain": [
       "'Deleted'"
      ]
     },
     "execution_count": 322,
     "metadata": {},
     "output_type": "execute_result"
    }
   ],
   "source": [
    "tree.delete(17)"
   ]
  },
  {
   "cell_type": "code",
   "execution_count": 325,
   "metadata": {
    "collapsed": false
   },
   "outputs": [
    {
     "data": {
      "text/plain": [
       "13"
      ]
     },
     "execution_count": 325,
     "metadata": {},
     "output_type": "execute_result"
    }
   ],
   "source": [
    "tree.root.r.l.k"
   ]
  },
  {
   "cell_type": "code",
   "execution_count": null,
   "metadata": {
    "collapsed": true
   },
   "outputs": [],
   "source": []
  },
  {
   "cell_type": "code",
   "execution_count": null,
   "metadata": {
    "collapsed": true
   },
   "outputs": [],
   "source": []
  },
  {
   "cell_type": "code",
   "execution_count": null,
   "metadata": {
    "collapsed": true
   },
   "outputs": [],
   "source": []
  }
 ],
 "metadata": {
  "anaconda-cloud": {},
  "kernelspec": {
   "display_name": "Python [conda root]",
   "language": "python",
   "name": "conda-root-py"
  },
  "language_info": {
   "codemirror_mode": {
    "name": "ipython",
    "version": 3
   },
   "file_extension": ".py",
   "mimetype": "text/x-python",
   "name": "python",
   "nbconvert_exporter": "python",
   "pygments_lexer": "ipython3",
   "version": "3.5.2"
  }
 },
 "nbformat": 4,
 "nbformat_minor": 1
}
