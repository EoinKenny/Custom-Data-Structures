{
 "cells": [
  {
   "cell_type": "code",
   "execution_count": 173,
   "metadata": {
    "collapsed": true
   },
   "outputs": [],
   "source": [
    "class Node():\n",
    "    \n",
    "    def __init__(self, k, p, d):\n",
    "        \"\"\"Make new node object with pointers to parent, left child, right child and key\"\"\"\n",
    "        \n",
    "        self.p = p  # Parent node\n",
    "        self.l = None  # Left child\n",
    "        self.r = None  # Right child\n",
    "        self.k = k  # Key\n",
    "        self.d = d  # Depth\n",
    "        \n",
    "        \n",
    "class Tree():\n",
    "        \n",
    "    def __init__(self):\n",
    "        self.root = None\n",
    "    \n",
    "    # ===================================================== #\n",
    "    # ==================== Add Nodes ====================== #\n",
    "    # ===================================================== #\n",
    "    def insert(self, new_k):\n",
    "        \n",
    "        # Private: For depth attribute\n",
    "        __depth = 0\n",
    "        \n",
    "        # If the tree is new\n",
    "        if self.root == None:\n",
    "            self.root = Node(new_k, None, __depth)\n",
    "        else:\n",
    "            self.__add(new_k, self.root, __depth)\n",
    "        \n",
    "    def __add(self, new_k, node, __depth):\n",
    "        \n",
    "        __depth += 1\n",
    "        \n",
    "        # Insert to left\n",
    "        if new_k < node.k:\n",
    "            if node.l == None:\n",
    "                node.l = Node(new_k, node, __depth)\n",
    "            else:\n",
    "                self.__add(new_k, node.l, __depth)\n",
    "                \n",
    "        # Insert to right\n",
    "        if new_k >= node.k:\n",
    "            if node.r == None:\n",
    "                node.r = Node(new_k, node, __depth)\n",
    "            else:\n",
    "                self.__add(new_k, node.r, __depth)\n",
    "        \n",
    "    # ===================================================== #\n",
    "    # ==================== Get Min ======================== #\n",
    "    # ===================================================== #\n",
    "    def return_min(self):\n",
    "        if self.root:\n",
    "            return self.__get_min(self.root)\n",
    "        else:\n",
    "            return False\n",
    "    \n",
    "    def __get_min(self, node):\n",
    "        if node.l != None:\n",
    "            return self.__get_min(node.l)\n",
    "        else:\n",
    "            return node.k\n",
    "        \n",
    "    # ===================================================== #\n",
    "    # ==================== Get Max ======================== #\n",
    "    # ===================================================== #\n",
    "    def return_max(self):\n",
    "        if self.root:\n",
    "            return self.__get_max(self.root)\n",
    "        else:\n",
    "            return False\n",
    "    \n",
    "    def __get_max(self, node):\n",
    "        if node.r != None:\n",
    "            return self.__get_max(node.r)\n",
    "        else:\n",
    "            return node.k\n",
    "        \n",
    "    # ===================================================== #\n",
    "    # ================== Print The Tree =================== #\n",
    "    # ===================================================== #\n",
    "    def print_tree(self):        \n",
    "        if self.root:\n",
    "            to_visit = list()\n",
    "            to_visit.append(self.root)\n",
    "            current_depth = self.root.d\n",
    "            return self.__bfs_print(to_visit, current_depth)\n",
    "        else:\n",
    "            return False\n",
    "        \n",
    "    def __bfs_print(self, to_visit, current_depth):\n",
    "        \n",
    "        if len(to_visit) == 0:\n",
    "            return True\n",
    "        \n",
    "        else:\n",
    "            current = to_visit.pop(0)\n",
    "            if current.l:\n",
    "                to_visit.append(current.l)\n",
    "            if current.r:\n",
    "                to_visit.append(current.r)\n",
    "            \n",
    "            if len(to_visit) != 0:\n",
    "                if current.d != to_visit[0].d:\n",
    "                    print(current.k, \"=> Level\", current.d)\n",
    "                else:    \n",
    "                    print(current.k, end=\" \")\n",
    "            else:\n",
    "                print(current.k, \"=> Level\", current.d)\n",
    "            return self.__bfs_print(to_visit, current.d)\n",
    "        "
   ]
  },
  {
   "cell_type": "code",
   "execution_count": 174,
   "metadata": {
    "collapsed": true
   },
   "outputs": [],
   "source": [
    "tree = Tree()"
   ]
  },
  {
   "cell_type": "code",
   "execution_count": 177,
   "metadata": {
    "collapsed": false
   },
   "outputs": [],
   "source": [
    "tree.insert(5)\n",
    "tree.insert(3)\n",
    "tree.insert(9)\n",
    "tree.insert(-3)\n",
    "tree.insert(12)\n",
    "tree.insert(7)\n",
    "tree.insert(-20)\n",
    "tree.insert(50)\n",
    "tree.insert(35)"
   ]
  },
  {
   "cell_type": "code",
   "execution_count": 178,
   "metadata": {
    "collapsed": false
   },
   "outputs": [
    {
     "name": "stdout",
     "output_type": "stream",
     "text": [
      "5 => Level 0\n",
      "0 5 => Level 1\n",
      "-3 0 9 => Level 2\n",
      "-20 3 7 12 => Level 3\n",
      "50 => Level 4\n",
      "35 => Level 5\n"
     ]
    },
    {
     "data": {
      "text/plain": [
       "True"
      ]
     },
     "execution_count": 178,
     "metadata": {},
     "output_type": "execute_result"
    }
   ],
   "source": [
    "tree.print_tree()"
   ]
  },
  {
   "cell_type": "code",
   "execution_count": null,
   "metadata": {
    "collapsed": true
   },
   "outputs": [],
   "source": []
  }
 ],
 "metadata": {
  "anaconda-cloud": {},
  "kernelspec": {
   "display_name": "Python [conda root]",
   "language": "python",
   "name": "conda-root-py"
  },
  "language_info": {
   "codemirror_mode": {
    "name": "ipython",
    "version": 3
   },
   "file_extension": ".py",
   "mimetype": "text/x-python",
   "name": "python",
   "nbconvert_exporter": "python",
   "pygments_lexer": "ipython3",
   "version": "3.5.2"
  }
 },
 "nbformat": 4,
 "nbformat_minor": 1
}
