{
 "cells": [
  {
   "cell_type": "markdown",
   "metadata": {},
   "source": [
    "# Stack Implementation in Python"
   ]
  },
  {
   "cell_type": "code",
   "execution_count": 41,
   "metadata": {
    "collapsed": true
   },
   "outputs": [],
   "source": [
    "class Stack():\n",
    "    \"\"\"A representation of the stack data structure in Python\n",
    "\n",
    "    Author: Eoin Kenny\n",
    "    \"\"\"\n",
    "    \n",
    "    def __init__(self):\n",
    "        self.stack = list()\n",
    "        \n",
    "    def push(self, x):\n",
    "        self.stack.append(x)\n",
    "        \n",
    "    def pop(self):\n",
    "        if len(self.stack) > 0:\n",
    "            x = self.stack[-1:]\n",
    "            self.stack = self.stack[:len(self.stack)-1]\n",
    "            return x\n",
    "        else:\n",
    "            return False\n",
    "        \n",
    "    def peek(self):\n",
    "        return self.stack[-1:]\n",
    "    \n",
    "    def view_stack(self):\n",
    "        \"\"\"Not really part of a stack, but added for curiosities sake\"\"\"\n",
    "        \n",
    "        return self.stack"
   ]
  }
 ],
 "metadata": {
  "anaconda-cloud": {},
  "kernelspec": {
   "display_name": "Python [conda root]",
   "language": "python",
   "name": "conda-root-py"
  },
  "language_info": {
   "codemirror_mode": {
    "name": "ipython",
    "version": 3
   },
   "file_extension": ".py",
   "mimetype": "text/x-python",
   "name": "python",
   "nbconvert_exporter": "python",
   "pygments_lexer": "ipython3",
   "version": "3.5.2"
  }
 },
 "nbformat": 4,
 "nbformat_minor": 1
}
